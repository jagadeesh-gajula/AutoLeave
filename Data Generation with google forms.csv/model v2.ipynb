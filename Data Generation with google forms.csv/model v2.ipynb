{
 "cells": [
  {
   "cell_type": "code",
   "execution_count": 1,
   "metadata": {},
   "outputs": [],
   "source": [
    "import pandas as pd\n",
    "df = pd.read_csv('cleaned.csv')\n"
   ]
  },
  {
   "cell_type": "code",
   "execution_count": 2,
   "metadata": {},
   "outputs": [],
   "source": [
    "place = {1:'home',2:'office',3:'out of town'}\n",
    "department = {1:'cleaners',2:'HR',3:'IT',4:'marketing',5:'R&D',6:'finance',7:'operations'}\n",
    "designation = {1:'ad-hoc',2:'employee',3:'foreman',4:'manager',5:'supervisor'}\n",
    "leave_type = {1:'casual',2:'earned',3:'EOL',4:'official',5:'medical',6:'extension leave'}\n",
    "reason = {1:'death',2:'marriage',3:'medical',4:'emergency for family',5:'accompany child',\n",
    "          6:'duty leave',7:'personal'}\n"
   ]
  },
  {
   "cell_type": "code",
   "execution_count": 3,
   "metadata": {},
   "outputs": [
    {
     "name": "stdout",
     "output_type": "stream",
     "text": [
      "(1, 7)\n"
     ]
    }
   ],
   "source": [
    "import random \n",
    "import pandas as pd\n",
    "dataframe = pd.DataFrame(columns=['number of days','applied leaves per month',\n",
    "                                  'place','department','designation','leave_type','reason'])\n",
    "\n",
    "for i in range(1):\n",
    "    x = random.randint(1,30)\n",
    "    y = random.randint(0,5)\n",
    "    a = place[random.randint(1,3)]\n",
    "    b = department[random.randint(1,7)]\n",
    "    c = designation[random.randint(1,5)]\n",
    "    d = leave_type[random.randint(1,6)]\n",
    "    e = reason[random.randint(1,7)]\n",
    "    dataframe.loc[i]=[x,y,a,b,c,d,e]\n",
    "\n",
    "print(dataframe.shape)"
   ]
  },
  {
   "cell_type": "code",
   "execution_count": 4,
   "metadata": {},
   "outputs": [],
   "source": [
    "df = pd.read_csv('Second data file--with status --1.csv')\n",
    "df = df.drop('Unnamed: 8',axis=1)\n",
    "from sklearn.ensemble import RandomForestClassifier\n",
    "from sklearn.model_selection import train_test_split\n",
    "from sklearn.tree import DecisionTreeClassifier\n",
    "from sklearn.metrics import accuracy_score,confusion_matrix,f1_score\n",
    "\n",
    "\n",
    "def fun(x):\n",
    "    y={}\n",
    "    for i in x.keys():\n",
    "        y[x[i]]= i\n",
    "    return y\n",
    "\n",
    "df['place'] = df['place'].apply(lambda x:fun(place)[x])\n",
    "df['department'] = df['department'].apply(lambda x:fun(department)[x])\n",
    "df['leave_type'] = df['leave_type'].apply(lambda x:fun(leave_type)[x])\n",
    "df['reason'] = df['reason'].apply(lambda x:fun(reason)[x])\n",
    "df['designation'] = df['designation'].apply(lambda x:fun(designation)[x])\n",
    "df['Status'] = df['Status'].apply(lambda x:0 if x=='Rejection' else 1)\n"
   ]
  },
  {
   "cell_type": "code",
   "execution_count": 5,
   "metadata": {},
   "outputs": [
    {
     "data": {
      "text/plain": [
       "0.832"
      ]
     },
     "execution_count": 5,
     "metadata": {},
     "output_type": "execute_result"
    }
   ],
   "source": [
    "y = df.Status\n",
    "x = df.drop('Status',axis=1)\n",
    "x_train,x_test,y_train,y_test=train_test_split(x,y)\n",
    "tree = DecisionTreeClassifier('gini')\n",
    "tree.fit(x_train,y_train)\n",
    "y_pred = tree.predict(x_test)\n",
    "accuracy_score(y_pred,y_test)"
   ]
  },
  {
   "cell_type": "code",
   "execution_count": 8,
   "metadata": {},
   "outputs": [],
   "source": [
    "import PySimpleGUI as sg\n",
    "\n",
    "place_ = [[sg.Text('Select Where you are applying from')],      \n",
    "           [sg.InputCombo(('home', 'office', 'out of town'), size=(20, 3))],] \n",
    "\n",
    "department_ = [[sg.Text('What is your department')],      \n",
    "           [sg.InputCombo(('cleaners', 'HR', 'IT', 'marketing',\n",
    "                           'R&D', 'finance', 'operations'), size=(20, 7))],] \n",
    "\n",
    "leave_type_ = [[sg.Text('What is your leave type')],      \n",
    "           [sg.InputCombo(('casual', 'earned', 'EOL', 'official', \n",
    "                           'medical', 'extension leave'), size=(20, 6))],] \n",
    "\n",
    "reason_ = [[sg.Text('Reason for applying leave')],      \n",
    "           [sg.InputCombo(('death', 'marriage', 'medical', 'emergency for family',\n",
    "                           'accompany child', 'duty leave', 'personal'), size=(20, 7))],] \n",
    "\n",
    "designation_ = [[sg.Text('What is your designation')],      \n",
    "           [sg.InputCombo(('ad-hoc', 'employee', 'foreman', 'manager',\n",
    "                           'supervisor'), size=(20, 5))],] \n",
    "\n",
    "\n",
    "layout = [[sg.Text(\"Number of days you want to go for leave\\n\")],\n",
    "          [sg.InputText()],\n",
    "          [sg.Column(place_)],\n",
    "          [sg.Column(department_)],\n",
    "          [sg.Column(leave_type_)],\n",
    "          [sg.Column(reason_)],\n",
    "          [sg.Column(designation_)],\n",
    "            [sg.Button('Ok'), sg.Button('Cancel')] ]\n",
    "\n",
    "    \n",
    "\n",
    "window = sg.Window('Window Title', layout)\n",
    "while True:\n",
    "    event, values = window.read()\n",
    "    if event in (None, 'Cancel'):\n",
    "        window.close()\n",
    "        break\n",
    "        \n",
    "    if event in ('Ok'):\n",
    "        results = list(values.values())\n",
    "        window.close()\n",
    "\n",
    "if '' in results:\n",
    "    sg.Popup(\"Error\",\"Please give valid input\")\n",
    "else:\n",
    "    \n",
    "    inputs = [results[0],1,\n",
    "    fun(place)[results[1]],\n",
    "    fun(department)[results[2]],\n",
    "    fun(leave_type)[results[3]],\n",
    "    fun(reason)[results[4]],\n",
    "    fun(designation)[results[5]]]\n",
    "\n",
    "    if tree.predict([inputs])==1:\n",
    "        sg.Popup(\"Leave Granted\",\"Mail is being sent to authority thank you\")\n",
    "    else:\n",
    "        sg.Popup(\"Leave not granted\",\"Please contact your manager\")\n",
    "    "
   ]
  }
 ],
 "metadata": {
  "kernelspec": {
   "display_name": "Python 3",
   "language": "python",
   "name": "python3"
  },
  "language_info": {
   "codemirror_mode": {
    "name": "ipython",
    "version": 3
   },
   "file_extension": ".py",
   "mimetype": "text/x-python",
   "name": "python",
   "nbconvert_exporter": "python",
   "pygments_lexer": "ipython3",
   "version": "3.7.4"
  }
 },
 "nbformat": 4,
 "nbformat_minor": 2
}
