{
 "cells": [
  {
   "cell_type": "code",
   "execution_count": 309,
   "metadata": {},
   "outputs": [],
   "source": [
    "import pandas as pd\n",
    "df = pd.read_csv('cleaned.csv')\n"
   ]
  },
  {
   "cell_type": "code",
   "execution_count": 310,
   "metadata": {},
   "outputs": [],
   "source": [
    "place = {1:'home',2:'office',3:'out of town'}\n",
    "department = {1:'cleaners',2:'HR',3:'IT',4:'marketing',5:'R&D',6:'finance',7:'operations'}\n",
    "designation = {1:'ad-hoc',2:'employee',3:'foreman',4:'manager',5:'supervisor'}\n",
    "leave_type = {1:'casual',2:'earned',3:'EOL',4:'official',5:'medical',6:'extension leave'}\n",
    "reason = {1:'death',2:'marriage',3:'medical',4:'emergency for family',5:'accompany child',\n",
    "          6:'duty leave',7:'personal'}\n"
   ]
  },
  {
   "cell_type": "code",
   "execution_count": 311,
   "metadata": {},
   "outputs": [
    {
     "name": "stdout",
     "output_type": "stream",
     "text": [
      "(1, 7)\n"
     ]
    }
   ],
   "source": [
    "import random \n",
    "import pandas as pd\n",
    "dataframe = pd.DataFrame(columns=['number of days','applied leaves per month',\n",
    "                                  'place','department','designation','leave_type','reason'])\n",
    "\n",
    "for i in range(1):\n",
    "    x = random.randint(1,30)\n",
    "    y = random.randint(0,5)\n",
    "    a = place[random.randint(1,3)]\n",
    "    b = department[random.randint(1,7)]\n",
    "    c = designation[random.randint(1,5)]\n",
    "    d = leave_type[random.randint(1,6)]\n",
    "    e = reason[random.randint(1,7)]\n",
    "    dataframe.loc[i]=[x,y,a,b,c,d,e]\n",
    "\n",
    "print(dataframe.shape)"
   ]
  },
  {
   "cell_type": "code",
   "execution_count": 312,
   "metadata": {},
   "outputs": [],
   "source": [
    "df = pd.read_csv('Second data file--with status --1.csv')\n",
    "df = df.drop('Unnamed: 8',axis=1)\n",
    "from sklearn.ensemble import RandomForestClassifier\n",
    "from sklearn.model_selection import train_test_split\n",
    "from sklearn.tree import DecisionTreeClassifier\n",
    "from sklearn.metrics import accuracy_score,confusion_matrix,f1_score\n",
    "\n",
    "\n",
    "def fun(x):\n",
    "    y={}\n",
    "    for i in x.keys():\n",
    "        y[x[i]]= i\n",
    "    return y\n",
    "\n",
    "df['place'] = df['place'].apply(lambda x:fun(place)[x])\n",
    "df['department'] = df['department'].apply(lambda x:fun(department)[x])\n",
    "df['leave_type'] = df['leave_type'].apply(lambda x:fun(leave_type)[x])\n",
    "df['reason'] = df['reason'].apply(lambda x:fun(reason)[x])\n",
    "df['designation'] = df['designation'].apply(lambda x:fun(designation)[x])\n",
    "df['Status'] = df['Status'].apply(lambda x:0 if x=='Rejection' else 1)\n"
   ]
  },
  {
   "cell_type": "code",
   "execution_count": 313,
   "metadata": {},
   "outputs": [
    {
     "data": {
      "text/plain": [
       "0.796"
      ]
     },
     "execution_count": 313,
     "metadata": {},
     "output_type": "execute_result"
    }
   ],
   "source": [
    "y = df.Status\n",
    "x = df.drop('Status',axis=1)\n",
    "from imblearn.over_sampling import SMOTE\n",
    "smote = SMOTE()\n",
    "\n",
    "\n",
    "x_train,x_test,y_train,y_test=train_test_split(x,y)\n",
    "\n",
    "#sample = smote.fit_resample(x_train,y_train)\n",
    "\n",
    "#x_train = sample[0]\n",
    "#y_train = sample[1]\n",
    "\n",
    "tree = DecisionTreeClassifier('gini')\n",
    "tree.fit(x_train,y_train)\n",
    "y_pred = tree.predict(x_test)\n",
    "accuracy_score(y_pred,y_test)"
   ]
  },
  {
   "cell_type": "code",
   "execution_count": 314,
   "metadata": {},
   "outputs": [
    {
     "data": {
      "text/plain": [
       "0.5984251968503937"
      ]
     },
     "execution_count": 314,
     "metadata": {},
     "output_type": "execute_result"
    }
   ],
   "source": [
    "f1_score(y_pred,y_test)"
   ]
  },
  {
   "cell_type": "code",
   "execution_count": 315,
   "metadata": {},
   "outputs": [
    {
     "data": {
      "text/plain": [
       "True"
      ]
     },
     "execution_count": 315,
     "metadata": {},
     "output_type": "execute_result"
    }
   ],
   "source": [
    "\n",
    "from IPython.display import Image  \n",
    "from sklearn.externals.six import StringIO  \n",
    "from sklearn.tree import export_graphviz\n",
    "import pydotplus, graphviz\n",
    "\n",
    "# If you're on windows:\n",
    "# Specifing path for dot file.\n",
    "import os\n",
    "os.environ[\"PATH\"] += os.pathsep + 'C:/Program Files (x86)/graphviz-2.38/release/bin/'\n",
    "features=x_train.columns\n",
    "\n",
    "# plotting tree with max_depth=3\n",
    "dot_data = StringIO()  \n",
    "export_graphviz(tree, out_file=dot_data,\n",
    "                feature_names=features, filled=True,rounded=True)\n",
    "\n",
    "graph = pydotplus.graph_from_dot_data(dot_data.getvalue())  \n",
    "graph.write_pdf(\"baby model.pdf\")\n"
   ]
  },
  {
   "cell_type": "code",
   "execution_count": 344,
   "metadata": {},
   "outputs": [
    {
     "data": {
      "image/png": "[encoded data removed]",
      "text/plain": [
       "<Figure size 432x288 with 1 Axes>"
      ]
     },
     "metadata": {
      "needs_background": "light"
     },
     "output_type": "display_data"
    }
   ],
   "source": []
  }
 ],
 "metadata": {
  "kernelspec": {
   "display_name": "Python 3",
   "language": "python",
   "name": "python3"
  },
  "language_info": {
   "codemirror_mode": {
    "name": "ipython",
    "version": 3
   },
   "file_extension": ".py",
   "mimetype": "text/x-python",
   "name": "python",
   "nbconvert_exporter": "python",
   "pygments_lexer": "ipython3",
   "version": "3.7.4"
  }
 },
 "nbformat": 4,
 "nbformat_minor": 2
}
